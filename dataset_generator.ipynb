{
 "cells": [
  {
   "cell_type": "markdown",
   "id": "fbd49b44-a7e3-4f5c-ad2e-722118cbc361",
   "metadata": {},
   "source": [
    "# Sentences Generator with DeepSeek"
   ]
  },
  {
   "cell_type": "markdown",
   "id": "3d4014ff-4498-4bdb-94a0-acc5ecb433e1",
   "metadata": {},
   "source": [
    "**Description:**\n",
    "In this project, we utilize the DeepSeek API and Khmer words from Khmer dictionary provided by `seanghay/khmer-dictionary-44k` on [**Hugging Face**](https://huggingface.co/datasets/seanghay/khmer-dictionary-44k) to create Khmer sentences based on provided words. For each generated sentence, we include the given word, its part of speech, and its definition to ensure that each sentence conveys the correct meaning, especially for the target word. After this step, we will replace the target words with their homophone pairs and use these sentences to train our model to recognize Khmer homophones."
   ]
  },
  {
   "cell_type": "code",
   "execution_count": 1,
   "id": "14697956-2482-47ac-8579-95757a71f25d",
   "metadata": {},
   "outputs": [],
   "source": [
    "# pip install openai"
   ]
  },
  {
   "cell_type": "code",
   "execution_count": 2,
   "id": "2c98d848-4ba9-45ff-88b0-30b4a1b01020",
   "metadata": {},
   "outputs": [],
   "source": [
    "# pip install datasets"
   ]
  },
  {
   "cell_type": "code",
   "execution_count": 2,
   "id": "0c2aca5c-1206-4033-94e9-def404ab7076",
   "metadata": {},
   "outputs": [],
   "source": [
    "from datasets import load_dataset\n",
    "from openai import OpenAI\n",
    "import time\n",
    "import requests # for API calls (if DeepSeek has an HTTP API)\n",
    "import json"
   ]
  },
  {
   "cell_type": "code",
   "execution_count": null,
   "id": "faaf9057-c32f-42d4-bc52-558ad6a20da4",
   "metadata": {},
   "outputs": [],
   "source": [
    "# Configuration\n",
    "DEEPSEEK_API_KEY = \"your-api-key\" # replace with your actual API key\n",
    "MODEL_NAME = \"deepseek-chat\"\n",
    "\n",
    "# begin_range = 0 # the index to start your dictionary loop\n",
    "begin_range = 600\n",
    "\n",
    "number_of_words_per_file = 100\n",
    "end_range = begin_range + number_of_words_per_file\n",
    "OUTPUT_FILE = f\"output/data_{begin_range}_{end_range-1}_1.json\" # using json format for better structure\n",
    "SENTENCES_PER_WORD = 60 # Number of sentences to generate perword\n",
    "\n",
    "# Initial clients\n",
    "client = OpenAI(api_key=DEEPSEEK_API_KEY, base_url=\"https://api.deepseek.com\")\n",
    "\n",
    "# Load data from khmer dictionary\n",
    "khmer_dictionary = load_dataset(\"seanghay/khmer-dictionary-44k\")\n",
    "\n",
    "# Generate prompt from the words in dictionary\n",
    "def generate_sentence(entry, number_of_sentence):\n",
    "    '''\n",
    "    :param entry is words that query from khmer dictionary with a loop\n",
    "    :param number_of_sentence is the number of sentence that you want your promt to create that number of sentences\n",
    "    return prompt (a paragraph) with word, definition, .. that will be used to generate khmer sentences with target word\n",
    "    '''\n",
    "\n",
    "    s1 = \"បង្កើតប្រយោគភាសាខ្មែរចំនួន\"\n",
    "    s2 = \"ប្រយោគជាមួយនឹងពាក្យ \"\n",
    "    s3 = \" មានថ្នាក់ពាក្យជា \"\n",
    "    s4 = \" មានន័យថា \"\n",
    "    s5 = \" ពាក្យនេះស្ថិតនៅទីតាំងផ្សេងៗគ្នានៅក្នុងប្រយោគ ដែលប្រយោគនិមួយៗមានភាពចម្រុះគ្នា មានបរិបទផ្សេងគ្នា កម្រិតភាសាផ្សេងគ្នា និងមានភាពខុសប្លែគ្នា។ ពេលចាប់ផ្តើមប្រយោគនិមួៗកុំរំលងបន្ទាត់ កុំដាក់លេខរៀង ហើយកុំប្រើអក្សរដិតក្នុងប្រយោគ។\"\n",
    "    output = (s1+str(number_of_sentence)+s2+entry['word']+s3+entry['pos']+s4+entry['definition']+s5)\n",
    "    return output\n",
    "\n",
    "# Query DeepSeek (replace with actual API call)\n",
    "def get_sentences_from_deepseek(prompt):\n",
    "    try:\n",
    "        response = client.chat.completions.create(\n",
    "            model=MODEL_NAME,\n",
    "            messages=[\n",
    "                {\"role\": \"system\", \"content\": \"You are a helpful Khmer language assistant.\"},\n",
    "                {\"role\": \"user\", \"content\": prompt}\n",
    "            ],\n",
    "            temperature=0.7,\n",
    "            max_tokens=5000,\n",
    "            stream=False\n",
    "        )\n",
    "        return [s.strip() for s in response.choices[0].message.content.split(\"\\n\") if s.strip()]\n",
    "        \n",
    "    except Exception as e:\n",
    "        print(f\"Error: {str(e)}\")\n",
    "        return []\n",
    "\n",
    "# Main processing loop\n",
    "for j in range(8,10):\n",
    "    number_of_words_per_file = 100\n",
    "\n",
    "    begin_range = j*number_of_words_per_file\n",
    "    end_range = begin_range + number_of_words_per_file\n",
    "    OUTPUT_FILE = f\"output/data_{begin_range}_{end_range-1}_1.json\" # using json format for better structure\n",
    "    results = []\n",
    "    for i in range(begin_range, end_range): # Process first 10 entries\n",
    "        entry = khmer_dictionary[\"train\"][i]\n",
    "    \n",
    "        # Generate and save the prompt\n",
    "        prompt = generate_sentence(entry, SENTENCES_PER_WORD)\n",
    "        sentences = get_sentences_from_deepseek(prompt)\n",
    "        result = {\n",
    "            \"word\": entry[\"word\"],\n",
    "            \"pos\": entry[\"pos\"],\n",
    "            \"definition\": entry[\"definition\"],\n",
    "            \"prompt\": prompt,\n",
    "            \"generated_sentences\": sentences,\n",
    "            \"timestamp\": time.strftime(\"%Y-%m-%d %H:%M:%S\")\n",
    "        }\n",
    "        results.append(result)\n",
    "    \n",
    "        # print progress\n",
    "        print(f\"Processed {i+1}/{end_range}: {entry['word']} - Got {len(sentences)} sentences\")\n",
    "        time.sleep(1) # rate limiting\n",
    "    \n",
    "    # save all results\n",
    "    with open(OUTPUT_FILE, \"w\", encoding=\"utf-8\") as f:\n",
    "        json.dump(results, f, ensure_ascii=False, indent=2)\n",
    "    \n",
    "    print(f\"Saved results to {OUTPUT_FILE}\")"
   ]
  }
 ],
 "metadata": {
  "kernelspec": {
   "display_name": "my_lab",
   "language": "python",
   "name": "my_lab"
  },
  "language_info": {
   "codemirror_mode": {
    "name": "ipython",
    "version": 3
   },
   "file_extension": ".py",
   "mimetype": "text/x-python",
   "name": "python",
   "nbconvert_exporter": "python",
   "pygments_lexer": "ipython3",
   "version": "3.13.2"
  }
 },
 "nbformat": 4,
 "nbformat_minor": 5
}
